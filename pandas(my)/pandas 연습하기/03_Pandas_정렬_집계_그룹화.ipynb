{
 "cells": [
  {
   "cell_type": "markdown",
   "metadata": {},
   "source": [
    "## 정렬\n",
    "### index명/컬럼명을 순 정렬\n",
    "- #### sort_index(axis, ascending=True)\n",
    "    - axis\n",
    "        - index명 기준 정렬(행) : 'index' 또는 0 (기본값)\n",
    "        - columnm 명 기준 정렬(열) : 'columns' 또는 1\n",
    "    - ascending\n",
    "        - 정렬방식\n",
    "        - True(기본): 오름차순, False: 내림차순\n",
    "    - inplace\n",
    "        - 원본에 적용 여부\n",
    "        - False(기본): 변경한 복사본 반환 \n",
    "        - True : 원본을 변경"
   ]
  },
  {
   "cell_type": "code",
   "execution_count": null,
   "metadata": {},
   "outputs": [],
   "source": []
  },
  {
   "cell_type": "code",
   "execution_count": null,
   "metadata": {},
   "outputs": [],
   "source": []
  },
  {
   "cell_type": "code",
   "execution_count": null,
   "metadata": {},
   "outputs": [],
   "source": []
  },
  {
   "cell_type": "code",
   "execution_count": null,
   "metadata": {},
   "outputs": [],
   "source": []
  },
  {
   "cell_type": "code",
   "execution_count": null,
   "metadata": {},
   "outputs": [],
   "source": []
  },
  {
   "cell_type": "markdown",
   "metadata": {},
   "source": [
    "### 컬럼 값 기준 정렬\n",
    "- #### sort_values(by, ascending, inplace)\n",
    "    - by\n",
    "        - 정렬기준 컬럼명\n",
    "        - 여러 컬럼에 대해 정렬할 경우 리스트에 담아 전달\n",
    "    - ascending\n",
    "        - 정렬방식\n",
    "        - True(기본): 오름차순, False: 내림차순\n",
    "        - 여러컬럼에 대해 정렬할 경우 정렬방식도 리스트에 담아 전달\n",
    "    - inplace\n",
    "        - 원본에 적용 여부\n",
    "        - False(기본): 변경한 복사본 반환 \n",
    "        - True : 원본을 변경"
   ]
  },
  {
   "cell_type": "code",
   "execution_count": null,
   "metadata": {},
   "outputs": [],
   "source": []
  },
  {
   "cell_type": "code",
   "execution_count": null,
   "metadata": {},
   "outputs": [],
   "source": []
  },
  {
   "cell_type": "code",
   "execution_count": null,
   "metadata": {},
   "outputs": [],
   "source": []
  },
  {
   "cell_type": "markdown",
   "metadata": {},
   "source": [
    "## flights.csv (항공기 운항 기록)\n",
    "- MONTH : 비행 월\n",
    "- DAY : 비행 일\n",
    "- WEEKDAY : 비행 요일 - 1(월요일)~7(일요일)\n",
    "- AIRLINE : 항공사 코드\n",
    "     - UA:\tUnited Air Lines Inc.\n",
    "     - AA:\tAmerican Airlines Inc.\n",
    "     - US:\tUS Airways Inc.\n",
    "     - F9:\tFrontier Airlines Inc.\n",
    "     - B6:\tJetBlue Airways\n",
    "     - OO:\tSkywest Airlines Inc.\n",
    "     - AS:\tAlaska Airlines Inc.\n",
    "     - NK:\tSpirit Air Lines\n",
    "     - WN:\tSouthwest Airlines Co.\n",
    "     - DL:\tDelta Air Lines Inc.\n",
    "     - EV:\tAtlantic Southeast Airlines\n",
    "     - HA:\tHawaiian Airlines Inc.\n",
    "     - MQ:\tAmerican Eagle Airlines Inc.\n",
    "     - VX:\tVirgin America\n",
    "- ORG_AIR : 출발공항\n",
    "- DEST_AIR : 도착공항\n",
    "- SCHED_DEP : 출발예정시각\n",
    "- DEP_DELAY : 출발지연시간(분)\n",
    "- AIR_TIME : 비행시간(분)\n",
    "- DIST : 비행거리(마일)\n",
    "- SCHED_ARR : 도착예정시각\n",
    "- ARR_DELAY : 도착지연시간(분)\n",
    "- DIVERTED : 회항여부(1: True, 0: False)\n",
    "- CANCELLED : 취소여부(1: True, 0: False)"
   ]
  },
  {
   "cell_type": "code",
   "execution_count": null,
   "metadata": {},
   "outputs": [],
   "source": []
  },
  {
   "cell_type": "code",
   "execution_count": null,
   "metadata": {},
   "outputs": [],
   "source": []
  },
  {
   "cell_type": "code",
   "execution_count": null,
   "metadata": {},
   "outputs": [],
   "source": []
  },
  {
   "cell_type": "markdown",
   "metadata": {},
   "source": [
    "## 기술통계함수를 이용한 데이터 집계\n",
    "### 주요 기술통계 함수\n",
    "\n",
    "|함수|설명|\n",
    "|-|-|\n",
    "|sum()|합계|\n",
    "|mean()|평균|\n",
    "|median()|중위수|\n",
    "|quantile()|분위수|\n",
    "|std()|표준편차|\n",
    "|var()|분산|\n",
    "|count()|결측치를 제외한 원소 개수|\n",
    "|min()|최소값|\n",
    "|max()|최대값|\n",
    "|idxmax()|최대값 index|\n",
    "|idxmin()|최소값 index|\n",
    "|unique()|고유값|\n",
    "|nunique()|고유값의 개수|\n",
    "\n",
    "- DataFrame에 적용할 경우 컬럼별로 계산\n",
    "- sum(), max(), min(), idxmax(), idxmin(), unique(), nunique(), count()는 문자열에 적용가능"
   ]
  },
  {
   "cell_type": "code",
   "execution_count": null,
   "metadata": {},
   "outputs": [],
   "source": []
  },
  {
   "cell_type": "code",
   "execution_count": null,
   "metadata": {},
   "outputs": [],
   "source": []
  },
  {
   "cell_type": "code",
   "execution_count": null,
   "metadata": {},
   "outputs": [],
   "source": []
  },
  {
   "cell_type": "markdown",
   "metadata": {},
   "source": [
    "### aggregate(func, axis=0, \\*args, \\**kwargs) 또는 agg(func, axis=0, \\*args, \\**kwargs)\n",
    "- 판다스가 제공하는 집계 함수들이나 사용자 정의 집계함수를 DataFrame의 열 별로 처리해주는 함수.\n",
    "- **사용자 정의 집계함수를 사용하거나 열 별로 다른 집계를 할 때 사용한다.**\n",
    "- 매개변수\n",
    "    - func \n",
    "        - 집계 함수 지정\n",
    "            - 문자열/문자열리스트 : 집계함수의 이름. 여러 개일 경우 리스트. 판다스 제공 집계함수는 문자열로 함수명만 제공가능\n",
    "            - 딕션어리 : {집계할컬럼 : 집계함수 }\n",
    "            - 함수 객체 : 사용자 정의 함수의 경우 함수이름을 전달\n",
    "    - axis\n",
    "        - 0 또는 'index' (기본값): 컬럼 별 집계\n",
    "        - 1 또는 'columns': 행 별 집계\n",
    "    - \\*args, \\**kwargs \n",
    "        - 함수에 전달할 매개변수. \n",
    "        - 집계함수는 첫번째 매개변수로 Series를 받는다. 그 이외의 매개변수가 있는 경우. "
   ]
  },
  {
   "cell_type": "code",
   "execution_count": null,
   "metadata": {},
   "outputs": [],
   "source": []
  },
  {
   "cell_type": "code",
   "execution_count": null,
   "metadata": {},
   "outputs": [],
   "source": []
  },
  {
   "cell_type": "code",
   "execution_count": null,
   "metadata": {},
   "outputs": [],
   "source": []
  },
  {
   "cell_type": "markdown",
   "metadata": {},
   "source": [
    "# Groupby\n",
    "- 특정 열을 기준으로 데이터셋을 묶는다.\n",
    "- ~~ 별 집계를 할 때 사용한다.\n",
    "- 구문\n",
    "    - DF.groupby('그룹으로묶을기준컬럼')['집계할 컬럼'].집계함수()\n",
    "    - 집계함수\n",
    "        - 기술통계 함수들\n",
    "        - agg()/aggregate()\n",
    "            - 여러 다른 집계함수 호출시(여러 집계를 같이 볼경우)\n",
    "            - 사용자정의 집계함수 호출시\n",
    "            - 컬럼별로 다른 집계함수들을 호출할 경우"
   ]
  },
  {
   "cell_type": "code",
   "execution_count": null,
   "metadata": {},
   "outputs": [],
   "source": []
  },
  {
   "cell_type": "code",
   "execution_count": null,
   "metadata": {},
   "outputs": [],
   "source": []
  },
  {
   "cell_type": "code",
   "execution_count": null,
   "metadata": {},
   "outputs": [],
   "source": []
  },
  {
   "cell_type": "code",
   "execution_count": null,
   "metadata": {},
   "outputs": [],
   "source": []
  },
  {
   "cell_type": "code",
   "execution_count": null,
   "metadata": {},
   "outputs": [],
   "source": []
  },
  {
   "cell_type": "code",
   "execution_count": null,
   "metadata": {},
   "outputs": [],
   "source": []
  },
  {
   "cell_type": "code",
   "execution_count": null,
   "metadata": {},
   "outputs": [],
   "source": []
  },
  {
   "cell_type": "markdown",
   "metadata": {},
   "source": [
    "###  복수열 기준 그룹핑\n",
    "- groupby의 매개변수에 그룹으로 묶을 컬럼들의 이름을 리스트로 전달한다."
   ]
  },
  {
   "cell_type": "code",
   "execution_count": null,
   "metadata": {},
   "outputs": [],
   "source": []
  },
  {
   "cell_type": "markdown",
   "metadata": {},
   "source": [
    "## SQL having 처럼 집계한 것 중 특정 조건의 항목만 보기\n",
    "- boolean index과 동일한데 변수에 넣서 처리하는 것이 가독성이 좋다."
   ]
  },
  {
   "cell_type": "code",
   "execution_count": null,
   "metadata": {},
   "outputs": [],
   "source": []
  },
  {
   "cell_type": "code",
   "execution_count": null,
   "metadata": {},
   "outputs": [],
   "source": []
  },
  {
   "cell_type": "code",
   "execution_count": null,
   "metadata": {},
   "outputs": [],
   "source": []
  },
  {
   "cell_type": "markdown",
   "metadata": {},
   "source": [
    "## 사용자 정의 집계함수를 만들어 적용\n",
    "- 컴럼의 값들을 매개변수으로 받는다.\n",
    "    - Series 객체가 넘어온다.\n",
    "- 그외 인자가 있을 경우 첫번째 매개변수로 Series를 받고 나머지를 선언한다.\n",
    "    - agg(함수명, 전달인자, ..) : 두번째 매개변수 부터 순서대로 전달하거나 키워드 인자로 변수명=값으로 전달한다."
   ]
  },
  {
   "cell_type": "code",
   "execution_count": null,
   "metadata": {},
   "outputs": [],
   "source": []
  },
  {
   "cell_type": "code",
   "execution_count": null,
   "metadata": {},
   "outputs": [],
   "source": []
  },
  {
   "cell_type": "markdown",
   "metadata": {},
   "source": [
    "# TODO\n",
    "1. data/diamonds.csv 를 읽어 DataFrame 생성\n",
    "2. 1에서 생성한 dataframe의 정보 조회\n",
    "    - 배열의 shape조회\n",
    "    - 컬럼들의 정보조회\n",
    "    - 상/하위 5개 행 조회\n",
    "3. cut별 가격 평균 조회\n",
    "4. clarity별 carat 평균과 표준편차 조회\n",
    "5. cut과 color 별로 가격은 평균을 carat은 최대값을 조회"
   ]
  },
  {
   "cell_type": "code",
   "execution_count": null,
   "metadata": {},
   "outputs": [],
   "source": []
  }
 ],
 "metadata": {
  "kernelspec": {
   "display_name": "Python 3",
   "language": "python",
   "name": "python3"
  },
  "language_info": {
   "codemirror_mode": {
    "name": "ipython",
    "version": 3
   },
   "file_extension": ".py",
   "mimetype": "text/x-python",
   "name": "python",
   "nbconvert_exporter": "python",
   "pygments_lexer": "ipython3",
   "version": "3.7.4"
  },
  "toc": {
   "base_numbering": 1,
   "nav_menu": {},
   "number_sections": false,
   "sideBar": false,
   "skip_h1_title": false,
   "title_cell": "Table of Contents",
   "title_sidebar": "Contents",
   "toc_cell": false,
   "toc_position": {},
   "toc_section_display": true,
   "toc_window_display": false
  },
  "varInspector": {
   "cols": {
    "lenName": 16,
    "lenType": 16,
    "lenVar": 40
   },
   "kernels_config": {
    "python": {
     "delete_cmd_postfix": "",
     "delete_cmd_prefix": "del ",
     "library": "var_list.py",
     "varRefreshCmd": "print(var_dic_list())"
    },
    "r": {
     "delete_cmd_postfix": ") ",
     "delete_cmd_prefix": "rm(",
     "library": "var_list.r",
     "varRefreshCmd": "cat(var_dic_list()) "
    }
   },
   "types_to_exclude": [
    "module",
    "function",
    "builtin_function_or_method",
    "instance",
    "_Feature"
   ],
   "window_display": false
  }
 },
 "nbformat": 4,
 "nbformat_minor": 2
}
