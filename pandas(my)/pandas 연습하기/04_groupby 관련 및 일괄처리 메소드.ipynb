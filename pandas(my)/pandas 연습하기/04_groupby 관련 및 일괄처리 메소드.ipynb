{
 "cells": [
  {
   "cell_type": "markdown",
   "metadata": {},
   "source": [
    "# filter(함수, **kwargs)\n",
    "- 특정 조건을 만족하는 그룹들의 데이터셋(관측치들)을 조회\n",
    "    - 함수: 매개변수로 Series를 받아 집계 결과의 조건을 체크하는 함수로 boolean값을 반환하도록 한다.\n",
    "    - kwargs: 함수에 전달할 추가 인자값이 있으면 keyword 인자로 전달한다. "
   ]
  },
  {
   "cell_type": "code",
   "execution_count": 1,
   "metadata": {
    "ExecuteTime": {
     "end_time": "2019-11-20T14:21:43.468799Z",
     "start_time": "2019-11-20T14:21:43.081578Z"
    }
   },
   "outputs": [],
   "source": [
    "import pandas as pd\n",
    "import numpy as np"
   ]
  },
  {
   "cell_type": "code",
   "execution_count": 2,
   "metadata": {
    "ExecuteTime": {
     "end_time": "2019-11-20T14:21:45.856407Z",
     "start_time": "2019-11-20T14:21:45.850423Z"
    }
   },
   "outputs": [],
   "source": [
    "data = dict(fruits=['사과', '사과','사과', '사과','사과','귤','귤','귤','귤','귤','배','배','배','배','배','딸기','딸기','딸기','딸기','딸기'],\n",
    "            cnt1=[10, 12, 13, 11, 12, 21, 22, 18, 24, 26, 7, 10, 8, 3, 2, 30, 35, 27, 41, 28],\n",
    "            cnt2=[12,  8, 19, 14,  6,  5,  2, 16,  4,  3,  9, 19,  7,  2,  2,  8, 17, 13, 16, 14])\n",
    "df = pd.DataFrame(data)"
   ]
  },
  {
   "cell_type": "markdown",
   "metadata": {},
   "source": [
    "- cnt의 평균이 20이상인 과일의 데이터를 조회"
   ]
  },
  {
   "cell_type": "code",
   "execution_count": null,
   "metadata": {},
   "outputs": [],
   "source": []
  },
  {
   "cell_type": "code",
   "execution_count": null,
   "metadata": {},
   "outputs": [],
   "source": []
  },
  {
   "cell_type": "markdown",
   "metadata": {},
   "source": [
    "# transform\n",
    "원소의 개수는 그대로 유지하며 함수가 처리한 값으로 변경한다.\n",
    "- `dataframe.transform(func, axis=0, **kwargs)`\n",
    "    - func: 매개변수로 Series를 받아 Series의 값들을 변환하여 (Series)반환하는 함수객체\n",
    "        - func에 지정한 축방향(0-행, 1-열)의 Series를 하나씩 전달하여 반환되는 Series로 바꾼다.\n",
    "    - kwargs: 함수에 전달할 추가 인자값이 있으면 keyword 인자로 전달한다.\n",
    "- `Series.transform(func, *args)    \n",
    "    - func: 매개변수로 하나의 scalar 값을 받아 변환하여 반환하는 함수객체\n",
    "        - func에 Series의 원소 하나씩 전달하여 반환되는 값으로 바꾼다.\n",
    "        - args: 함수에 전달할 추가 인자값이 있으면 매개변수 순서에 맞게 값을 전달한다. (위치기반 argument)\n",
    "- **transform() 함수를 groupby() 와 사용하면 컬럼의 각 원소들을 자신이 속한 그룹의 통계값으로 변환된 데이터셋을 생성할 수 있다.**\n",
    "- 컬럼의 값과 통계값을 비교해서 보거나 결측치 처리등에 사용할 수있다."
   ]
  },
  {
   "cell_type": "code",
   "execution_count": null,
   "metadata": {},
   "outputs": [],
   "source": []
  },
  {
   "cell_type": "code",
   "execution_count": null,
   "metadata": {},
   "outputs": [],
   "source": []
  },
  {
   "cell_type": "code",
   "execution_count": null,
   "metadata": {},
   "outputs": [],
   "source": []
  },
  {
   "cell_type": "code",
   "execution_count": null,
   "metadata": {},
   "outputs": [],
   "source": []
  },
  {
   "cell_type": "code",
   "execution_count": null,
   "metadata": {},
   "outputs": [],
   "source": []
  },
  {
   "cell_type": "code",
   "execution_count": null,
   "metadata": {},
   "outputs": [],
   "source": []
  },
  {
   "cell_type": "code",
   "execution_count": null,
   "metadata": {},
   "outputs": [],
   "source": []
  },
  {
   "cell_type": "code",
   "execution_count": null,
   "metadata": {},
   "outputs": [],
   "source": []
  },
  {
   "cell_type": "markdown",
   "metadata": {},
   "source": [
    "# pivot_table()\n",
    "엑셀의 pivot table 만드는 함수.    \n",
    "분류별 집계(Group으로 묶어 집계)를 처리하는 함수로 group으로 묶고자 하는 컬럼을 행과 열로 위치시키고 집계값을 값으로 보여준다.\n",
    "> pivot() 함수와 역할이 다르다.\n",
    "> pivot() 은 index와 column의 형태를 바꾸는 reshape 함수.\n",
    "\n",
    "- **매개변수**\n",
    "    - index\n",
    "        - 문자열 또는 리스트. index로 올 컬럼들 => groupby였으면 묶었을 컬럼\n",
    "    - columns\n",
    "        - 문자열 또는 리스트. column으로 올 컬럼들 => groupby였으면 묶었을 컬럼 (index/columns가 묶여서 groupby에 묶을 컬럼들이 된다.)\n",
    "    - values\n",
    "        - 문자열 또는 리스트. 집계할 대상 컬럼들\n",
    "    - aggfunc\n",
    "        - 집계함수 지정. 함수, 문자열, 함수리스트(문자열/함수), dict: 집계할 함수\n",
    "        - 기본(생략시): 평균을 구한다. (mean이 기본값)\n",
    "    - fill_value, dropna\n",
    "        - fill_value: 집계시 NA가 나올경우 채울 값\n",
    "        - dropna: boolean. 컬럼의 전체값이 NA인 경우 그 컬럼 제거(기본: True)\n",
    "    - margins/margins_name\n",
    "        - margin: boolean(기본: False). 총집계결과를 만들지 여부.\n",
    "        - margin_name: margin의 이름 문자열로 지정 (생략시 All)"
   ]
  },
  {
   "cell_type": "markdown",
   "metadata": {},
   "source": [
    "## 두개의 컬럼을 grouping 해서 집계\n",
    "- 항공사/출발공항코드 별 취소 총수 (1이 취소이므로 합계를 구한다.)\n",
    "- 사용컬럼\n",
    "    - grouping할 컬럼\n",
    "        - AIRLINE: 항공사\n",
    "        - ORG_AIR: 출발 공항코드\n",
    "    - 집계대상컬럼\n",
    "        - CANCELLED: 취소여부 - 1:취소, 0: 취소안됨\n",
    "- 집계: sum"
   ]
  },
  {
   "cell_type": "code",
   "execution_count": null,
   "metadata": {},
   "outputs": [],
   "source": []
  },
  {
   "cell_type": "code",
   "execution_count": null,
   "metadata": {},
   "outputs": [],
   "source": []
  },
  {
   "cell_type": "code",
   "execution_count": null,
   "metadata": {},
   "outputs": [],
   "source": []
  },
  {
   "cell_type": "code",
   "execution_count": null,
   "metadata": {},
   "outputs": [],
   "source": []
  },
  {
   "cell_type": "code",
   "execution_count": null,
   "metadata": {},
   "outputs": [],
   "source": []
  },
  {
   "cell_type": "markdown",
   "metadata": {},
   "source": [
    "## 3개 이상의 컬럼을 grouping해서 집계\n",
    "- 항공사/월/출발공항코드 별 취소 총수 \n",
    "- grouping할 컬럼\n",
    "    - AIRLINE:항공사\n",
    "    - MONTH:월\n",
    "    - ORG_AIR: 출발지 공항\n",
    "- 집계 대상컬럼\n",
    "    - CANCELLED: 취소여부\n",
    "- 집계 : sum    "
   ]
  },
  {
   "cell_type": "code",
   "execution_count": null,
   "metadata": {},
   "outputs": [],
   "source": []
  },
  {
   "cell_type": "code",
   "execution_count": null,
   "metadata": {},
   "outputs": [],
   "source": []
  },
  {
   "cell_type": "code",
   "execution_count": null,
   "metadata": {},
   "outputs": [],
   "source": []
  },
  {
   "cell_type": "code",
   "execution_count": null,
   "metadata": {},
   "outputs": [],
   "source": []
  },
  {
   "cell_type": "markdown",
   "metadata": {},
   "source": [
    "## 3개 이상의 컬럼을 grouping해서 집계 2\n",
    "- 항공사/월/출발공항코드 별 최대/최소 연착시간\n",
    "- grouping할 컬럼\n",
    "    - AIRLINE:항공사\n",
    "    - MONTH:월\n",
    "    - ORG_AIR: 출발지 공항\n",
    "- 집계 대상컬럼\n",
    "    - ARR_DELAY: 연착시간\n",
    "- 집계 : min, max    "
   ]
  },
  {
   "cell_type": "code",
   "execution_count": null,
   "metadata": {},
   "outputs": [],
   "source": []
  },
  {
   "cell_type": "code",
   "execution_count": null,
   "metadata": {},
   "outputs": [],
   "source": []
  },
  {
   "cell_type": "code",
   "execution_count": null,
   "metadata": {},
   "outputs": [],
   "source": []
  },
  {
   "cell_type": "markdown",
   "metadata": {},
   "source": [
    "# apply() Series, DataFrame의 데이터 일괄 처리\n",
    "\n",
    "데이터프레임의 행들과 열들 또는 Series의 원소들에 공통된 처리를 할 때 apply 함수를 이용하면 반복문을 사용하지 않고 일괄 처리가 가능하다.\n",
    "\n",
    "- DataFrame.apply(함수, axis=0, args=())\n",
    "    - 인수로 행이나 열을 받는 함수를 apply 메서드의 인수로 넣으면 데이터프레임의 행이나 열들을 하나씩 함수에 전달한다.\n",
    "    - 매개변수\n",
    "        - 함수: DataFrame의 행들 또는 열들을 전달할 함수\n",
    "        - axis: 0-행을 전달, 1-열을 전달 (기본값 0)\n",
    "        - args: 행/열 이외에 전달할 매개변수를 위치기반(순서대로) 튜플로 전달\n",
    "- Series.apply(함수, args=())\n",
    "    - 인수로 Series의 원소들을 받는 함수를 apply 메소드의 인수로 넣으면  Series의 원소들을 하나씩 함수로 전달한다.\n",
    "    - 매개변수\n",
    "        - 함수: Series의 원소들을 전달할 함수\n",
    "        - args: 원소 이외에 전달할 매개변수를 위치기반(순서대로) 튜플로 전달"
   ]
  },
  {
   "cell_type": "code",
   "execution_count": 3,
   "metadata": {
    "ExecuteTime": {
     "end_time": "2019-11-20T14:25:52.524529Z",
     "start_time": "2019-11-20T14:25:52.521566Z"
    }
   },
   "outputs": [],
   "source": [
    "import pandas as pd\n",
    "import numpy as np"
   ]
  },
  {
   "cell_type": "code",
   "execution_count": 4,
   "metadata": {
    "ExecuteTime": {
     "end_time": "2019-11-20T14:25:53.055256Z",
     "start_time": "2019-11-20T14:25:53.040324Z"
    }
   },
   "outputs": [
    {
     "data": {
      "text/html": [
       "<div>\n",
       "<style scoped>\n",
       "    .dataframe tbody tr th:only-of-type {\n",
       "        vertical-align: middle;\n",
       "    }\n",
       "\n",
       "    .dataframe tbody tr th {\n",
       "        vertical-align: top;\n",
       "    }\n",
       "\n",
       "    .dataframe thead th {\n",
       "        text-align: right;\n",
       "    }\n",
       "</style>\n",
       "<table border=\"1\" class=\"dataframe\">\n",
       "  <thead>\n",
       "    <tr style=\"text-align: right;\">\n",
       "      <th></th>\n",
       "      <th>NO1</th>\n",
       "      <th>NO2</th>\n",
       "      <th>NO3</th>\n",
       "      <th>NO4</th>\n",
       "    </tr>\n",
       "  </thead>\n",
       "  <tbody>\n",
       "    <tr>\n",
       "      <td>0</td>\n",
       "      <td>0</td>\n",
       "      <td>1</td>\n",
       "      <td>2</td>\n",
       "      <td>3</td>\n",
       "    </tr>\n",
       "    <tr>\n",
       "      <td>1</td>\n",
       "      <td>4</td>\n",
       "      <td>5</td>\n",
       "      <td>6</td>\n",
       "      <td>7</td>\n",
       "    </tr>\n",
       "    <tr>\n",
       "      <td>2</td>\n",
       "      <td>8</td>\n",
       "      <td>9</td>\n",
       "      <td>10</td>\n",
       "      <td>11</td>\n",
       "    </tr>\n",
       "    <tr>\n",
       "      <td>3</td>\n",
       "      <td>12</td>\n",
       "      <td>13</td>\n",
       "      <td>14</td>\n",
       "      <td>15</td>\n",
       "    </tr>\n",
       "    <tr>\n",
       "      <td>4</td>\n",
       "      <td>16</td>\n",
       "      <td>17</td>\n",
       "      <td>18</td>\n",
       "      <td>19</td>\n",
       "    </tr>\n",
       "    <tr>\n",
       "      <td>5</td>\n",
       "      <td>20</td>\n",
       "      <td>21</td>\n",
       "      <td>22</td>\n",
       "      <td>23</td>\n",
       "    </tr>\n",
       "  </tbody>\n",
       "</table>\n",
       "</div>"
      ],
      "text/plain": [
       "   NO1  NO2  NO3  NO4\n",
       "0    0    1    2    3\n",
       "1    4    5    6    7\n",
       "2    8    9   10   11\n",
       "3   12   13   14   15\n",
       "4   16   17   18   19\n",
       "5   20   21   22   23"
      ]
     },
     "execution_count": 4,
     "metadata": {},
     "output_type": "execute_result"
    }
   ],
   "source": [
    "a = np.arange(24).reshape(6,4)\n",
    "df = pd.DataFrame(a, columns=['NO1','NO2','NO3','NO4'])\n",
    "df"
   ]
  },
  {
   "cell_type": "code",
   "execution_count": null,
   "metadata": {},
   "outputs": [],
   "source": []
  },
  {
   "cell_type": "code",
   "execution_count": null,
   "metadata": {},
   "outputs": [],
   "source": []
  },
  {
   "cell_type": "code",
   "execution_count": null,
   "metadata": {},
   "outputs": [],
   "source": []
  },
  {
   "cell_type": "code",
   "execution_count": null,
   "metadata": {},
   "outputs": [],
   "source": []
  },
  {
   "cell_type": "markdown",
   "metadata": {},
   "source": [
    "# 연속형(실수)을 범주형으로 변환\n",
    "- cut() : 지정한 값을 기준으로 구간을 나눠 그룹으로 묶는다.\n",
    "    - `pd.cut(x, bins,right=True, labels=None)`\n",
    "    - 매개변수\n",
    "        - x: 나눌 대상. 1차원 배열형태의 자료구조\n",
    "        - bins: 나누는 기준값(구간경계)을 리스트로 전달\n",
    "        - right: 구간경계의 오른쪽(True)을 포함할지 왼쪽(False)을 포함할지\n",
    "        - labels: 각 구간의 label을 리스트로 전달\n",
    "- qcut() : 데이터를 오름차순으로 정렬한 뒤 데이터 개수가 같도록 지정한 개수만큼의 구간으로 나눈다.\n",
    "    - `pd.qcut(x, q, labels)`\n",
    "    - 매개변수\n",
    "        - x: 나눌 대상. 1차원 배열형태의 자료구조\n",
    "        - q: 나눌 개수"
   ]
  },
  {
   "cell_type": "code",
   "execution_count": null,
   "metadata": {},
   "outputs": [],
   "source": []
  },
  {
   "cell_type": "code",
   "execution_count": null,
   "metadata": {},
   "outputs": [],
   "source": []
  },
  {
   "cell_type": "code",
   "execution_count": null,
   "metadata": {},
   "outputs": [],
   "source": []
  },
  {
   "cell_type": "code",
   "execution_count": null,
   "metadata": {},
   "outputs": [],
   "source": []
  },
  {
   "cell_type": "code",
   "execution_count": null,
   "metadata": {},
   "outputs": [],
   "source": []
  },
  {
   "cell_type": "code",
   "execution_count": null,
   "metadata": {},
   "outputs": [],
   "source": []
  }
 ],
 "metadata": {
  "kernelspec": {
   "display_name": "Python 3",
   "language": "python",
   "name": "python3"
  },
  "language_info": {
   "codemirror_mode": {
    "name": "ipython",
    "version": 3
   },
   "file_extension": ".py",
   "mimetype": "text/x-python",
   "name": "python",
   "nbconvert_exporter": "python",
   "pygments_lexer": "ipython3",
   "version": "3.7.3"
  },
  "toc": {
   "base_numbering": 1,
   "nav_menu": {},
   "number_sections": true,
   "sideBar": true,
   "skip_h1_title": false,
   "title_cell": "Table of Contents",
   "title_sidebar": "Contents",
   "toc_cell": false,
   "toc_position": {},
   "toc_section_display": true,
   "toc_window_display": false
  },
  "varInspector": {
   "cols": {
    "lenName": 16,
    "lenType": 16,
    "lenVar": 40
   },
   "kernels_config": {
    "python": {
     "delete_cmd_postfix": "",
     "delete_cmd_prefix": "del ",
     "library": "var_list.py",
     "varRefreshCmd": "print(var_dic_list())"
    },
    "r": {
     "delete_cmd_postfix": ") ",
     "delete_cmd_prefix": "rm(",
     "library": "var_list.r",
     "varRefreshCmd": "cat(var_dic_list()) "
    }
   },
   "types_to_exclude": [
    "module",
    "function",
    "builtin_function_or_method",
    "instance",
    "_Feature"
   ],
   "window_display": false
  }
 },
 "nbformat": 4,
 "nbformat_minor": 2
}
